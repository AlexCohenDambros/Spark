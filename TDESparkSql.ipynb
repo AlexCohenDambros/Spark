{
  "nbformat": 4,
  "nbformat_minor": 0,
  "metadata": {
    "colab": {
      "name": "TDESparkSql.ipynb",
      "provenance": [],
      "collapsed_sections": []
    },
    "kernelspec": {
      "name": "python3",
      "display_name": "Python 3"
    },
    "language_info": {
      "name": "python"
    }
  },
  "cells": [
    {
      "cell_type": "code",
      "execution_count": 1,
      "metadata": {
        "colab": {
          "base_uri": "https://localhost:8080/"
        },
        "id": "AfR4rTIPH6cX",
        "outputId": "56d4d26b-6d93-4769-878e-a8486c6c1616"
      },
      "outputs": [
        {
          "output_type": "stream",
          "name": "stdout",
          "text": [
            "Looking in indexes: https://pypi.org/simple, https://us-python.pkg.dev/colab-wheels/public/simple/\n",
            "Collecting pyspark\n",
            "  Downloading pyspark-3.2.1.tar.gz (281.4 MB)\n",
            "\u001b[K     |████████████████████████████████| 281.4 MB 33 kB/s \n",
            "\u001b[?25hCollecting py4j==0.10.9.3\n",
            "  Downloading py4j-0.10.9.3-py2.py3-none-any.whl (198 kB)\n",
            "\u001b[K     |████████████████████████████████| 198 kB 52.8 MB/s \n",
            "\u001b[?25hBuilding wheels for collected packages: pyspark\n",
            "  Building wheel for pyspark (setup.py) ... \u001b[?25l\u001b[?25hdone\n",
            "  Created wheel for pyspark: filename=pyspark-3.2.1-py2.py3-none-any.whl size=281853642 sha256=9a7ac9c7db5ebaa1eebe76160d4dc44a7a8b9c8f89da7d05f72dae0ecbdd8ab1\n",
            "  Stored in directory: /root/.cache/pip/wheels/9f/f5/07/7cd8017084dce4e93e84e92efd1e1d5334db05f2e83bcef74f\n",
            "Successfully built pyspark\n",
            "Installing collected packages: py4j, pyspark\n",
            "Successfully installed py4j-0.10.9.3 pyspark-3.2.1\n"
          ]
        }
      ],
      "source": [
        "!pip install pyspark"
      ]
    },
    {
      "cell_type": "code",
      "source": [
        "from google.colab import drive\n",
        "drive.mount('/content/drive', force_remount=True)"
      ],
      "metadata": {
        "colab": {
          "base_uri": "https://localhost:8080/"
        },
        "id": "xTGmu_HIIdcm",
        "outputId": "35c6f44a-cfae-46ea-9297-7ff6625d7d69"
      },
      "execution_count": 2,
      "outputs": [
        {
          "output_type": "stream",
          "name": "stdout",
          "text": [
            "Mounted at /content/drive\n"
          ]
        }
      ]
    },
    {
      "cell_type": "code",
      "source": [
        "import pyspark\n",
        "from pyspark.sql import SparkSession\n",
        "from pyspark import SparkFiles\n",
        "from pyspark.sql.functions import col, max, min, avg\n",
        "\n",
        "spark = SparkSession.builder.master('local[*]').\\\n",
        "        appName('alex').getOrCreate()\n",
        "\n",
        "spark.conf.set(\"spark.sql.repl.eagerEval.enabled\", True)\n",
        "        \n",
        "sc = spark.sparkContext\n",
        "\n",
        "sc.addFile('/content/drive/MyDrive/transactions_amostra.csv')\n",
        "\n",
        "# carregando o arquivo\n",
        "df_tde = spark.read.csv(\"file://\" + SparkFiles.get('transactions_amostra.csv'), sep=\";\", header=True, inferSchema=True)"
      ],
      "metadata": {
        "id": "xtoQYzJXIes5"
      },
      "execution_count": 3,
      "outputs": []
    },
    {
      "cell_type": "code",
      "source": [
        "# mostrando a base\n",
        "df_tde"
      ],
      "metadata": {
        "colab": {
          "base_uri": "https://localhost:8080/",
          "height": 913
        },
        "id": "YVLn0m2TK-FS",
        "outputId": "41a160e0-ba8b-492f-9151-f3f25d27d1df"
      },
      "execution_count": 4,
      "outputs": [
        {
          "output_type": "execute_result",
          "data": {
            "text/plain": [
              "+--------------------+----+---------+--------------------+---------+---------+------------+-------------------+------------+--------------------+\n",
              "|     country_or_area|year|comm_code|           commodity|     flow|trade_usd|   weight_kg|      quantity_name|    quantity|            category|\n",
              "+--------------------+----+---------+--------------------+---------+---------+------------+-------------------+------------+--------------------+\n",
              "|             Belgium|2016|   920510|Brass-wind instru...|   Export|   571297|      3966.0|    Number of items|      4135.0|92_musical_instru...|\n",
              "|           Guatemala|2008|   660200|Walking-sticks, s...|   Export|    35022|      5575.0|    Number of items|     10089.0|66_umbrellas_walk...|\n",
              "|            Barbados|2006|   220210|Beverage waters, ...|Re-Export|    81058|     44458.0|   Volume in litres|     24113.0|22_beverages_spir...|\n",
              "|             Tunisia|2016|   780411|Lead foil of a th...|   Import|     4658|       121.0|Weight in kilograms|       121.0|78_lead_and_artic...|\n",
              "|           Lithuania|1996|   560110|Sanitary towels, ...|   Export|    76499|      5419.0|Weight in kilograms|      5419.0|56_wadding_felt_n...|\n",
              "|             Denmark|2011|   310100|Animal or vegetab...|   Export|  4903675|  1.902844E7|Weight in kilograms|  1.902844E7|      31_fertilizers|\n",
              "|            Thailand|1994|   920290|String musical in...|   Import|  2088672|         0.0|    Number of items|     59595.0|92_musical_instru...|\n",
              "|            Portugal|2004|   511119|Woven fabric, >85...|   Export|  1546575|     87367.0|Weight in kilograms|     87367.0|51_wool_animal_ha...|\n",
              "|               Congo|2011|   420690|Articles of gut, ...|   Export|      883|         9.0|Weight in kilograms|         9.0|42_articles_of_le...|\n",
              "| Antigua and Barbuda|2016|   620332|Mens, boys jacket...|   Export|    12988|      1403.0|    Number of items|       648.0|62_articles_of_ap...|\n",
              "|            Pakistan|2016|   920999|Parts and accesso...|   Export|   359131|     66284.0|Weight in kilograms|     66284.0|92_musical_instru...|\n",
              "|             Albania|2013|   610322|Mens, boys ensemb...|   Import|   180103|     13031.0|    Number of items|     25763.0|61_articles_of_ap...|\n",
              "|          Azerbaijan|1998|   721119|Hot rolled iron o...|   Import|     6239|     64941.0|Weight in kilograms|     64941.0|   72_iron_and_steel|\n",
              "| Antigua and Barbuda|2009|   511120|Woven fabric, car...|   Import|     1482|        30.0|Weight in kilograms|        30.0|51_wool_animal_ha...|\n",
              "|             Namibia|2003|    50900|Sponges, natural,...|   Export|     6349|      6750.0|Weight in kilograms|      6750.0|05_products_of_an...|\n",
              "|             Germany|1991|   950330|Construction sets...|   Export| 29924000|   2649521.0|Weight in kilograms|   2649521.0|95_toys_games_spo...|\n",
              "|Central African Rep.|2008|   220290|Non-alcoholic bev...|   Import|    32470|     30725.0|   Volume in litres|     30725.0|22_beverages_spir...|\n",
              "|             Algeria|2010|    80300|Bananas, includin...|   Import|105558708|2.07859307E8|Weight in kilograms|2.07859307E8|08_edible_fruit_n...|\n",
              "|              France|2009|    71230|Mushrooms and tru...|Re-Import|   219297|      7400.0|Weight in kilograms|      7400.0|07_edible_vegetab...|\n",
              "|             Albania|2003|    71220|Onions, dried, no...|   Import|    13674|     30314.0|Weight in kilograms|     30314.0|07_edible_vegetab...|\n",
              "+--------------------+----+---------+--------------------+---------+---------+------------+-------------------+------------+--------------------+\n",
              "only showing top 20 rows"
            ],
            "text/html": [
              "<table border='1'>\n",
              "<tr><th>country_or_area</th><th>year</th><th>comm_code</th><th>commodity</th><th>flow</th><th>trade_usd</th><th>weight_kg</th><th>quantity_name</th><th>quantity</th><th>category</th></tr>\n",
              "<tr><td>Belgium</td><td>2016</td><td>920510</td><td>Brass-wind instru...</td><td>Export</td><td>571297</td><td>3966.0</td><td>Number of items</td><td>4135.0</td><td>92_musical_instru...</td></tr>\n",
              "<tr><td>Guatemala</td><td>2008</td><td>660200</td><td>Walking-sticks, s...</td><td>Export</td><td>35022</td><td>5575.0</td><td>Number of items</td><td>10089.0</td><td>66_umbrellas_walk...</td></tr>\n",
              "<tr><td>Barbados</td><td>2006</td><td>220210</td><td>Beverage waters, ...</td><td>Re-Export</td><td>81058</td><td>44458.0</td><td>Volume in litres</td><td>24113.0</td><td>22_beverages_spir...</td></tr>\n",
              "<tr><td>Tunisia</td><td>2016</td><td>780411</td><td>Lead foil of a th...</td><td>Import</td><td>4658</td><td>121.0</td><td>Weight in kilograms</td><td>121.0</td><td>78_lead_and_artic...</td></tr>\n",
              "<tr><td>Lithuania</td><td>1996</td><td>560110</td><td>Sanitary towels, ...</td><td>Export</td><td>76499</td><td>5419.0</td><td>Weight in kilograms</td><td>5419.0</td><td>56_wadding_felt_n...</td></tr>\n",
              "<tr><td>Denmark</td><td>2011</td><td>310100</td><td>Animal or vegetab...</td><td>Export</td><td>4903675</td><td>1.902844E7</td><td>Weight in kilograms</td><td>1.902844E7</td><td>31_fertilizers</td></tr>\n",
              "<tr><td>Thailand</td><td>1994</td><td>920290</td><td>String musical in...</td><td>Import</td><td>2088672</td><td>0.0</td><td>Number of items</td><td>59595.0</td><td>92_musical_instru...</td></tr>\n",
              "<tr><td>Portugal</td><td>2004</td><td>511119</td><td>Woven fabric, &gt;85...</td><td>Export</td><td>1546575</td><td>87367.0</td><td>Weight in kilograms</td><td>87367.0</td><td>51_wool_animal_ha...</td></tr>\n",
              "<tr><td>Congo</td><td>2011</td><td>420690</td><td>Articles of gut, ...</td><td>Export</td><td>883</td><td>9.0</td><td>Weight in kilograms</td><td>9.0</td><td>42_articles_of_le...</td></tr>\n",
              "<tr><td>Antigua and Barbuda</td><td>2016</td><td>620332</td><td>Mens, boys jacket...</td><td>Export</td><td>12988</td><td>1403.0</td><td>Number of items</td><td>648.0</td><td>62_articles_of_ap...</td></tr>\n",
              "<tr><td>Pakistan</td><td>2016</td><td>920999</td><td>Parts and accesso...</td><td>Export</td><td>359131</td><td>66284.0</td><td>Weight in kilograms</td><td>66284.0</td><td>92_musical_instru...</td></tr>\n",
              "<tr><td>Albania</td><td>2013</td><td>610322</td><td>Mens, boys ensemb...</td><td>Import</td><td>180103</td><td>13031.0</td><td>Number of items</td><td>25763.0</td><td>61_articles_of_ap...</td></tr>\n",
              "<tr><td>Azerbaijan</td><td>1998</td><td>721119</td><td>Hot rolled iron o...</td><td>Import</td><td>6239</td><td>64941.0</td><td>Weight in kilograms</td><td>64941.0</td><td>72_iron_and_steel</td></tr>\n",
              "<tr><td>Antigua and Barbuda</td><td>2009</td><td>511120</td><td>Woven fabric, car...</td><td>Import</td><td>1482</td><td>30.0</td><td>Weight in kilograms</td><td>30.0</td><td>51_wool_animal_ha...</td></tr>\n",
              "<tr><td>Namibia</td><td>2003</td><td>50900</td><td>Sponges, natural,...</td><td>Export</td><td>6349</td><td>6750.0</td><td>Weight in kilograms</td><td>6750.0</td><td>05_products_of_an...</td></tr>\n",
              "<tr><td>Germany</td><td>1991</td><td>950330</td><td>Construction sets...</td><td>Export</td><td>29924000</td><td>2649521.0</td><td>Weight in kilograms</td><td>2649521.0</td><td>95_toys_games_spo...</td></tr>\n",
              "<tr><td>Central African Rep.</td><td>2008</td><td>220290</td><td>Non-alcoholic bev...</td><td>Import</td><td>32470</td><td>30725.0</td><td>Volume in litres</td><td>30725.0</td><td>22_beverages_spir...</td></tr>\n",
              "<tr><td>Algeria</td><td>2010</td><td>80300</td><td>Bananas, includin...</td><td>Import</td><td>105558708</td><td>2.07859307E8</td><td>Weight in kilograms</td><td>2.07859307E8</td><td>08_edible_fruit_n...</td></tr>\n",
              "<tr><td>France</td><td>2009</td><td>71230</td><td>Mushrooms and tru...</td><td>Re-Import</td><td>219297</td><td>7400.0</td><td>Weight in kilograms</td><td>7400.0</td><td>07_edible_vegetab...</td></tr>\n",
              "<tr><td>Albania</td><td>2003</td><td>71220</td><td>Onions, dried, no...</td><td>Import</td><td>13674</td><td>30314.0</td><td>Weight in kilograms</td><td>30314.0</td><td>07_edible_vegetab...</td></tr>\n",
              "</table>\n",
              "only showing top 20 rows\n"
            ]
          },
          "metadata": {},
          "execution_count": 4
        }
      ]
    },
    {
      "cell_type": "code",
      "source": [
        "# Questão1 \n",
        "# 1. (Easy) The number of transactions involving Brazil;\n",
        "\n",
        "# primeiramente fazemos um filter.like(\"Brazil\") para pegar todas as linhas em que o 'Brazil' se encontra passando a coluna especifica col('country_or_area'), depois fazemos um .count() para contar todas as ocorrencias\n",
        "df_tde.filter(col('country_or_area').like('Brazil')).count()"
      ],
      "metadata": {
        "colab": {
          "base_uri": "https://localhost:8080/"
        },
        "id": "ITgISR1GIe1w",
        "outputId": "e1c6b9a4-8b2c-4d0b-92da-f21b57d43346"
      },
      "execution_count": 5,
      "outputs": [
        {
          "output_type": "execute_result",
          "data": {
            "text/plain": [
              "54762"
            ]
          },
          "metadata": {},
          "execution_count": 5
        }
      ]
    },
    {
      "cell_type": "code",
      "source": [
        "# Questão2\n",
        "# 2. (Easy) The number of transactions per year;\n",
        "\n",
        "# primeiramente fazemos um groupBy na coluna 'year' passando pelos anos e um .count() para contar as ocorrencias\n",
        "df_tde.groupBy('year').count().show(10)"
      ],
      "metadata": {
        "colab": {
          "base_uri": "https://localhost:8080/"
        },
        "id": "3SiPq8SVIlat",
        "outputId": "2299e945-ef56-4d31-8d3a-852a02eb59b9"
      },
      "execution_count": 6,
      "outputs": [
        {
          "output_type": "stream",
          "name": "stdout",
          "text": [
            "+----+------+\n",
            "|year| count|\n",
            "+----+------+\n",
            "|1990| 18188|\n",
            "|2003|101125|\n",
            "|2007|105891|\n",
            "|2015|101973|\n",
            "|2006|109186|\n",
            "|2013|104734|\n",
            "|1997| 77876|\n",
            "|1988|  8568|\n",
            "|1994| 54143|\n",
            "|2014|103231|\n",
            "+----+------+\n",
            "only showing top 10 rows\n",
            "\n"
          ]
        }
      ]
    },
    {
      "cell_type": "code",
      "source": [
        "# Questão3 \n",
        "# 3. (Easy) The number of transactions per flow type and year;\n",
        "\n",
        "# fazemos um groupBy nas colunas year e flowtype e um .count() para contar as ocorrencias\n",
        "df_tde.groupBy('year', 'flow').count().show(10)"
      ],
      "metadata": {
        "colab": {
          "base_uri": "https://localhost:8080/"
        },
        "id": "x4NobZM4Ipbi",
        "outputId": "9c0658b5-6bf0-4a5d-87c1-a2e1f0c0fbed"
      },
      "execution_count": 7,
      "outputs": [
        {
          "output_type": "stream",
          "name": "stdout",
          "text": [
            "+----+---------+-----+\n",
            "|year|     flow|count|\n",
            "+----+---------+-----+\n",
            "|2011|   Import|62270|\n",
            "|2006|   Import|64345|\n",
            "|1994|Re-Export| 2094|\n",
            "|2009|   Export|35489|\n",
            "|1998|   Import|49870|\n",
            "|2012|   Export|35241|\n",
            "|1999|Re-Export| 4049|\n",
            "|2006|   Export|36981|\n",
            "|2015|Re-Import| 3005|\n",
            "|2014|Re-Import| 2902|\n",
            "+----+---------+-----+\n",
            "only showing top 10 rows\n",
            "\n"
          ]
        }
      ]
    },
    {
      "cell_type": "code",
      "source": [
        "#Questão 4\n",
        "# 4. (Easy) The average of commodity values per year;\n",
        "\n",
        "# fazemos um groupBy na coluna ano e tiramos a média da coluna \"trade_usd\"\n",
        "df_tde.groupBy('year').avg('trade_usd')"
      ],
      "metadata": {
        "colab": {
          "base_uri": "https://localhost:8080/",
          "height": 529
        },
        "id": "kMy73VUnIqnb",
        "outputId": "411f334d-1e2c-44ac-d875-f8a3c3f62e97"
      },
      "execution_count": 8,
      "outputs": [
        {
          "output_type": "execute_result",
          "data": {
            "text/plain": [
              "+----+--------------------+\n",
              "|year|      avg(trade_usd)|\n",
              "+----+--------------------+\n",
              "|1990|1.3192706620958874E7|\n",
              "|2003| 1.421775659984178E7|\n",
              "|2007|  2.58920247040825E7|\n",
              "|2015|  3.18705453775215E7|\n",
              "|2006| 2.309561335510047E7|\n",
              "|2013| 4.000417948798862E7|\n",
              "|1997|1.0552287985399866E7|\n",
              "|1988|1.6750924673436042E7|\n",
              "|1994|1.1536598545389062E7|\n",
              "|2014|  4.07714802568802E7|\n",
              "|2004| 1.528377417530457E7|\n",
              "|1991|1.2069165192609925E7|\n",
              "|1996| 1.199597126387271E7|\n",
              "|1989|1.1040023169484511E7|\n",
              "|1998|1.0251539570903756E7|\n",
              "|2012|3.6993817061880395E7|\n",
              "|2009|2.5688655388272807E7|\n",
              "|2016|2.8671598648091204E7|\n",
              "|1995|1.1727225375201566E7|\n",
              "|2001|1.0226900917677911E7|\n",
              "+----+--------------------+\n",
              "only showing top 20 rows"
            ],
            "text/html": [
              "<table border='1'>\n",
              "<tr><th>year</th><th>avg(trade_usd)</th></tr>\n",
              "<tr><td>1990</td><td>1.3192706620958874E7</td></tr>\n",
              "<tr><td>2003</td><td>1.421775659984178E7</td></tr>\n",
              "<tr><td>2007</td><td>2.58920247040825E7</td></tr>\n",
              "<tr><td>2015</td><td>3.18705453775215E7</td></tr>\n",
              "<tr><td>2006</td><td>2.309561335510047E7</td></tr>\n",
              "<tr><td>2013</td><td>4.000417948798862E7</td></tr>\n",
              "<tr><td>1997</td><td>1.0552287985399866E7</td></tr>\n",
              "<tr><td>1988</td><td>1.6750924673436042E7</td></tr>\n",
              "<tr><td>1994</td><td>1.1536598545389062E7</td></tr>\n",
              "<tr><td>2014</td><td>4.07714802568802E7</td></tr>\n",
              "<tr><td>2004</td><td>1.528377417530457E7</td></tr>\n",
              "<tr><td>1991</td><td>1.2069165192609925E7</td></tr>\n",
              "<tr><td>1996</td><td>1.199597126387271E7</td></tr>\n",
              "<tr><td>1989</td><td>1.1040023169484511E7</td></tr>\n",
              "<tr><td>1998</td><td>1.0251539570903756E7</td></tr>\n",
              "<tr><td>2012</td><td>3.6993817061880395E7</td></tr>\n",
              "<tr><td>2009</td><td>2.5688655388272807E7</td></tr>\n",
              "<tr><td>2016</td><td>2.8671598648091204E7</td></tr>\n",
              "<tr><td>1995</td><td>1.1727225375201566E7</td></tr>\n",
              "<tr><td>2001</td><td>1.0226900917677911E7</td></tr>\n",
              "</table>\n",
              "only showing top 20 rows\n"
            ]
          },
          "metadata": {},
          "execution_count": 8
        }
      ]
    },
    {
      "cell_type": "code",
      "source": [
        "# Questão 5\n",
        "# (Easy) The average price of commodities per unit type, year, and category in the export flow in Brazil;\n",
        "\n",
        "# primeiramente fazemos um filter na coluna country_or_area pegando o pais Brazil. \n",
        "# Depois fazemos um novo filter para pegar o flow type do tipo Export \n",
        "# pegamos as colunas de quantity_name, year, category, flow e country_or_area\n",
        "# por fim fazemos a media na coluna trade_usd\n",
        "\n",
        "df_tde.filter(col(\"country_or_area\").like(\"Brazil\")).filter(col(\"flow\").like(\"Export\")).groupBy('quantity_name', 'year', 'category', 'flow', 'country_or_area').avg('trade_usd')"
      ],
      "metadata": {
        "colab": {
          "base_uri": "https://localhost:8080/",
          "height": 529
        },
        "id": "fLoLWPrhIs1U",
        "outputId": "9455eb66-35aa-429c-9883-13f42e5b2eb9"
      },
      "execution_count": 9,
      "outputs": [
        {
          "output_type": "execute_result",
          "data": {
            "text/plain": [
              "+--------------------+----+--------------------+------+---------------+--------------------+\n",
              "|       quantity_name|year|            category|  flow|country_or_area|      avg(trade_usd)|\n",
              "+--------------------+----+--------------------+------+---------------+--------------------+\n",
              "| Weight in kilograms|2011|48_paper_paperboa...|Export|         Brazil|        4.42723402E7|\n",
              "|     Number of items|2000|62_articles_of_ap...|Export|         Brazil|   443135.4074074074|\n",
              "| Weight in kilograms|2011|63_other_made_tex...|Export|         Brazil|            786739.0|\n",
              "| Weight in kilograms|1995|16_meat_fish_and_...|Export|         Brazil|            591473.0|\n",
              "| Weight in kilograms|2011|44_wood_and_artic...|Export|         Brazil|4.3177107083333336E7|\n",
              "|     Number of items|2010|88_aircraft_space...|Export|         Brazil|         4.7883109E8|\n",
              "| Weight in kilograms|2013|27_mineral_fuels_...|Export|         Brazil| 5.067649188888889E8|\n",
              "| Weight in kilograms|1996|   72_iron_and_steel|Export|         Brazil|       4.668934694E7|\n",
              "| Weight in kilograms|2000|91_clocks_and_wat...|Export|         Brazil|             36086.0|\n",
              "|    Volume in litres|1989|20_vegetable_frui...|Export|         Brazil|           8978975.0|\n",
              "| Weight in kilograms|2007|      31_fertilizers|Export|         Brazil|           2745916.0|\n",
              "| Weight in kilograms|2011|25_salt_sulphur_e...|Export|         Brazil|   2595234.904761905|\n",
              "| Weight in kilograms|2014|15_animal_vegetab...|Export|         Brazil|1.8964097933333334E7|\n",
              "| Weight in kilograms|2011|39_plastics_and_a...|Export|         Brazil|       3.687982275E7|\n",
              "| Weight in kilograms|1994|61_articles_of_ap...|Export|         Brazil|  3309599.7419354836|\n",
              "| Weight in kilograms|1993|63_other_made_tex...|Export|         Brazil|   717556.5882352941|\n",
              "| Weight in kilograms|2012|44_wood_and_artic...|Export|         Brazil|1.6601294153846154E7|\n",
              "| Weight in kilograms|2012|20_vegetable_frui...|Export|         Brazil|  3038523.6666666665|\n",
              "|Area in square me...|2007|70_glass_and_glas...|Export|         Brazil|           5899243.0|\n",
              "| Weight in kilograms|2011|36_explosives_pyr...|Export|         Brazil|            224313.5|\n",
              "+--------------------+----+--------------------+------+---------------+--------------------+\n",
              "only showing top 20 rows"
            ],
            "text/html": [
              "<table border='1'>\n",
              "<tr><th>quantity_name</th><th>year</th><th>category</th><th>flow</th><th>country_or_area</th><th>avg(trade_usd)</th></tr>\n",
              "<tr><td>Weight in kilograms</td><td>2011</td><td>48_paper_paperboa...</td><td>Export</td><td>Brazil</td><td>4.42723402E7</td></tr>\n",
              "<tr><td>Number of items</td><td>2000</td><td>62_articles_of_ap...</td><td>Export</td><td>Brazil</td><td>443135.4074074074</td></tr>\n",
              "<tr><td>Weight in kilograms</td><td>2011</td><td>63_other_made_tex...</td><td>Export</td><td>Brazil</td><td>786739.0</td></tr>\n",
              "<tr><td>Weight in kilograms</td><td>1995</td><td>16_meat_fish_and_...</td><td>Export</td><td>Brazil</td><td>591473.0</td></tr>\n",
              "<tr><td>Weight in kilograms</td><td>2011</td><td>44_wood_and_artic...</td><td>Export</td><td>Brazil</td><td>4.3177107083333336E7</td></tr>\n",
              "<tr><td>Number of items</td><td>2010</td><td>88_aircraft_space...</td><td>Export</td><td>Brazil</td><td>4.7883109E8</td></tr>\n",
              "<tr><td>Weight in kilograms</td><td>2013</td><td>27_mineral_fuels_...</td><td>Export</td><td>Brazil</td><td>5.067649188888889E8</td></tr>\n",
              "<tr><td>Weight in kilograms</td><td>1996</td><td>72_iron_and_steel</td><td>Export</td><td>Brazil</td><td>4.668934694E7</td></tr>\n",
              "<tr><td>Weight in kilograms</td><td>2000</td><td>91_clocks_and_wat...</td><td>Export</td><td>Brazil</td><td>36086.0</td></tr>\n",
              "<tr><td>Volume in litres</td><td>1989</td><td>20_vegetable_frui...</td><td>Export</td><td>Brazil</td><td>8978975.0</td></tr>\n",
              "<tr><td>Weight in kilograms</td><td>2007</td><td>31_fertilizers</td><td>Export</td><td>Brazil</td><td>2745916.0</td></tr>\n",
              "<tr><td>Weight in kilograms</td><td>2011</td><td>25_salt_sulphur_e...</td><td>Export</td><td>Brazil</td><td>2595234.904761905</td></tr>\n",
              "<tr><td>Weight in kilograms</td><td>2014</td><td>15_animal_vegetab...</td><td>Export</td><td>Brazil</td><td>1.8964097933333334E7</td></tr>\n",
              "<tr><td>Weight in kilograms</td><td>2011</td><td>39_plastics_and_a...</td><td>Export</td><td>Brazil</td><td>3.687982275E7</td></tr>\n",
              "<tr><td>Weight in kilograms</td><td>1994</td><td>61_articles_of_ap...</td><td>Export</td><td>Brazil</td><td>3309599.7419354836</td></tr>\n",
              "<tr><td>Weight in kilograms</td><td>1993</td><td>63_other_made_tex...</td><td>Export</td><td>Brazil</td><td>717556.5882352941</td></tr>\n",
              "<tr><td>Weight in kilograms</td><td>2012</td><td>44_wood_and_artic...</td><td>Export</td><td>Brazil</td><td>1.6601294153846154E7</td></tr>\n",
              "<tr><td>Weight in kilograms</td><td>2012</td><td>20_vegetable_frui...</td><td>Export</td><td>Brazil</td><td>3038523.6666666665</td></tr>\n",
              "<tr><td>Area in square me...</td><td>2007</td><td>70_glass_and_glas...</td><td>Export</td><td>Brazil</td><td>5899243.0</td></tr>\n",
              "<tr><td>Weight in kilograms</td><td>2011</td><td>36_explosives_pyr...</td><td>Export</td><td>Brazil</td><td>224313.5</td></tr>\n",
              "</table>\n",
              "only showing top 20 rows\n"
            ]
          },
          "metadata": {},
          "execution_count": 9
        }
      ]
    },
    {
      "cell_type": "code",
      "source": [
        "# Questao 6 \n",
        "# (Medium) The maximum, minimum, and mean transaction price per unit type and year;\n",
        "\n",
        "# primeiramente fazemos um groupBy passando quantity_name e year como referencia.\n",
        "# depois usamos um agg que é usado para retornar varias variaveis, onde passamos o valor maximo, o valor minimo e a média da coluna trade_usd\n",
        "\n",
        "df_tde.groupBy('quantity_name', 'year').agg(max('trade_usd'), min('trade_usd'), avg('trade_usd'))"
      ],
      "metadata": {
        "colab": {
          "base_uri": "https://localhost:8080/",
          "height": 529
        },
        "id": "YaruWKSLIudP",
        "outputId": "f4cd2ef4-473d-44a4-b134-65be1cbd2015"
      },
      "execution_count": 10,
      "outputs": [
        {
          "output_type": "execute_result",
          "data": {
            "text/plain": [
              "+--------------------+----+--------------+--------------+--------------------+\n",
              "|       quantity_name|year|max(trade_usd)|min(trade_usd)|      avg(trade_usd)|\n",
              "+--------------------+----+--------------+--------------+--------------------+\n",
              "|Electrical energy...|1994|      16549948|           588|           4122301.5|\n",
              "|     Number of pairs|2008|    8231914307|            23|3.9991725244176015E7|\n",
              "|    Weight in carats|2013|    1156063734|           487| 9.718167391666667E7|\n",
              "|  Thousands of items|2006|      27188639|            58|   6971520.423076923|\n",
              "|Volume in cubic m...|2005|     740206429|             6|   2.1613620009375E7|\n",
              "|Area in square me...|2013|    3465872352|             7|1.0891966478880407E7|\n",
              "|    Length in metres|1996|     558384790|            13| 1.493895061967213E7|\n",
              "|     Number of pairs|2013|    3087358939|            15| 3.524038769922879E7|\n",
              "|    Volume in litres|1988|   18423300970|             6| 8.903355118110237E7|\n",
              "|     Number of pairs|1990|     119229449|           130|   6225074.855421687|\n",
              "|    Volume in litres|2001|    1900916127|             1|1.3549760972187886E7|\n",
              "|     Number of pairs|1995|    2770837671|            84|   7.0682655486911E7|\n",
              "|     Number of items|1990|    8600394514|             9|2.9381585801783945E7|\n",
              "|Volume in cubic m...|2002|    1174042321|            53|3.1563350744186047E7|\n",
              "|    Volume in litres|2011|    2022123459|             2|2.5391481421773612E7|\n",
              "|    Length in metres|2016|       2761956|             8|          156330.325|\n",
              "| Weight in kilograms|2013|  401459981239|             1| 4.057026634703289E7|\n",
              "|     Number of items|2002|   12582020967|             1|1.6623866827907434E7|\n",
              "|Electrical energy...|1996|      73550496|          1297|        2.12085764E7|\n",
              "| Weight in kilograms|1998|   11708121148|             1|   8781429.041589193|\n",
              "+--------------------+----+--------------+--------------+--------------------+\n",
              "only showing top 20 rows"
            ],
            "text/html": [
              "<table border='1'>\n",
              "<tr><th>quantity_name</th><th>year</th><th>max(trade_usd)</th><th>min(trade_usd)</th><th>avg(trade_usd)</th></tr>\n",
              "<tr><td>Electrical energy...</td><td>1994</td><td>16549948</td><td>588</td><td>4122301.5</td></tr>\n",
              "<tr><td>Number of pairs</td><td>2008</td><td>8231914307</td><td>23</td><td>3.9991725244176015E7</td></tr>\n",
              "<tr><td>Weight in carats</td><td>2013</td><td>1156063734</td><td>487</td><td>9.718167391666667E7</td></tr>\n",
              "<tr><td>Thousands of items</td><td>2006</td><td>27188639</td><td>58</td><td>6971520.423076923</td></tr>\n",
              "<tr><td>Volume in cubic m...</td><td>2005</td><td>740206429</td><td>6</td><td>2.1613620009375E7</td></tr>\n",
              "<tr><td>Area in square me...</td><td>2013</td><td>3465872352</td><td>7</td><td>1.0891966478880407E7</td></tr>\n",
              "<tr><td>Length in metres</td><td>1996</td><td>558384790</td><td>13</td><td>1.493895061967213E7</td></tr>\n",
              "<tr><td>Number of pairs</td><td>2013</td><td>3087358939</td><td>15</td><td>3.524038769922879E7</td></tr>\n",
              "<tr><td>Volume in litres</td><td>1988</td><td>18423300970</td><td>6</td><td>8.903355118110237E7</td></tr>\n",
              "<tr><td>Number of pairs</td><td>1990</td><td>119229449</td><td>130</td><td>6225074.855421687</td></tr>\n",
              "<tr><td>Volume in litres</td><td>2001</td><td>1900916127</td><td>1</td><td>1.3549760972187886E7</td></tr>\n",
              "<tr><td>Number of pairs</td><td>1995</td><td>2770837671</td><td>84</td><td>7.0682655486911E7</td></tr>\n",
              "<tr><td>Number of items</td><td>1990</td><td>8600394514</td><td>9</td><td>2.9381585801783945E7</td></tr>\n",
              "<tr><td>Volume in cubic m...</td><td>2002</td><td>1174042321</td><td>53</td><td>3.1563350744186047E7</td></tr>\n",
              "<tr><td>Volume in litres</td><td>2011</td><td>2022123459</td><td>2</td><td>2.5391481421773612E7</td></tr>\n",
              "<tr><td>Length in metres</td><td>2016</td><td>2761956</td><td>8</td><td>156330.325</td></tr>\n",
              "<tr><td>Weight in kilograms</td><td>2013</td><td>401459981239</td><td>1</td><td>4.057026634703289E7</td></tr>\n",
              "<tr><td>Number of items</td><td>2002</td><td>12582020967</td><td>1</td><td>1.6623866827907434E7</td></tr>\n",
              "<tr><td>Electrical energy...</td><td>1996</td><td>73550496</td><td>1297</td><td>2.12085764E7</td></tr>\n",
              "<tr><td>Weight in kilograms</td><td>1998</td><td>11708121148</td><td>1</td><td>8781429.041589193</td></tr>\n",
              "</table>\n",
              "only showing top 20 rows\n"
            ]
          },
          "metadata": {},
          "execution_count": 10
        }
      ]
    },
    {
      "cell_type": "code",
      "source": [
        "# Questao 7\n",
        "# (Hard) The most commercialized commodity (summing the quantities) in 2016, per flow type.\n",
        "\n",
        "# primeiramente filtramos a coluna ano por 2016 e fazemos um groupBy por flow e commodity junto com a soma da coluna quantity, por fim mudamos o nome da coluna\n",
        "# no df2 pegamos o valor maximo presente na coluna quantity, e mudamos novamente o nome da coluna.\n",
        "# e por fim usando um comando alias retornamos o flow, a commodity e a quantity (valor maximo de cada flow type e commodity)\n",
        "\n",
        "\n",
        "\n",
        "df1 = df_tde.filter(col(\"year\").like(\"2016\")).groupBy('flow', 'commodity').sum('quantity').withColumnRenamed('sum(quantity)', 'quantity')\n",
        "df2 = df1.groupBy(df_tde.flow).max('quantity').withColumnRenamed('max(quantity)', 'quantity')\n",
        "df2.alias(\"df2\").join(df1.alias(\"df1\"), df1.quantity == df2.quantity).select(\"df2.flow\", \"df1.commodity\", \"df2.quantity\")"
      ],
      "metadata": {
        "colab": {
          "base_uri": "https://localhost:8080/",
          "height": 138
        },
        "id": "i8wk7-fUIvyi",
        "outputId": "7b9fcdb4-a530-4368-f271-8deda4ad5955"
      },
      "execution_count": 11,
      "outputs": [
        {
          "output_type": "execute_result",
          "data": {
            "text/plain": [
              "+---------+--------------------+-----------------+\n",
              "|     flow|           commodity|         quantity|\n",
              "+---------+--------------------+-----------------+\n",
              "|   Import|Iron ore, concent...|1.073469712878E12|\n",
              "|   Export|Ice, snow and pot...| 6.99847369665E11|\n",
              "|Re-Export|Safety razor blad...|       1.261968E9|\n",
              "|Re-Import|Chem wood pulp, s...|      3.8774873E7|\n",
              "+---------+--------------------+-----------------+"
            ],
            "text/html": [
              "<table border='1'>\n",
              "<tr><th>flow</th><th>commodity</th><th>quantity</th></tr>\n",
              "<tr><td>Import</td><td>Iron ore, concent...</td><td>1.073469712878E12</td></tr>\n",
              "<tr><td>Export</td><td>Ice, snow and pot...</td><td>6.99847369665E11</td></tr>\n",
              "<tr><td>Re-Export</td><td>Safety razor blad...</td><td>1.261968E9</td></tr>\n",
              "<tr><td>Re-Import</td><td>Chem wood pulp, s...</td><td>3.8774873E7</td></tr>\n",
              "</table>\n"
            ]
          },
          "metadata": {},
          "execution_count": 11
        }
      ]
    }
  ]
}